{
 "cells": [
  {
   "attachments": {},
   "cell_type": "markdown",
   "metadata": {},
   "source": [
    "# Proof-of-concept demo of Merkle Octree\n",
    "\n",
    "This notebook demonstrates the use of an [octree](https://en.wikipedia.org/wiki/Octree) data structure whose nodes also form a [Merkle Tree](https://en.wikipedia.org/wiki/Merkle_tree).\n",
    "The Merkle octree can be used to quickly detect and determine map changes to enable efficient sharing of map updates in a distributed mapping scenario."
   ]
  },
  {
   "cell_type": "code",
   "execution_count": 1,
   "metadata": {},
   "outputs": [
    {
     "name": "stdout",
     "output_type": "stream",
     "text": [
      "Jupyter environment detected. Enabling Open3D WebVisualizer.\n",
      "[Open3D INFO] WebRTC GUI backend enabled.\n",
      "[Open3D INFO] WebRTCWindowSystem: HTTP handshake server disabled.\n"
     ]
    }
   ],
   "source": [
    "from copy import deepcopy\n",
    "from merkleoctree import *"
   ]
  },
  {
   "cell_type": "code",
   "execution_count": 2,
   "metadata": {},
   "outputs": [
    {
     "name": "stdout",
     "output_type": "stream",
     "text": [
      "=== Tree A: Before changes ===\n",
      "(7, 0, 0, b'\\xdayr\\x88r\\xaa<\\x1bq\\xb2\\xd6v\\xac\\xa7A?*\\xe0\\xac\\x8f')\n",
      "(6, 0, 7, b'\\xac\\x9c\\x07\\xfd\\x144\\x05?RE)<\\xaf\\x87G[(\\xa5H\\xcb')\n",
      "(5, 7, 0, b'0f\\x8f\\xf6}_\\xdbJ\\xd2\\x99\\x0cn\\xcb\\x06\\x1c0\\xfeC\\xed\\xec')\n",
      "(4, 0, 0, b'\\xbc\\x00\\x83hk%\\xd9<\\xb8\\xd9\\x88\\x86\\xd8\\xa4\\xa9\\\\E/\\x10a')\n",
      "(3, 0, 0, b\"3\\x1b\\x9a'I\\x0b\\xfc\\x1d?;\\xe3\\x9b\\x11\\xe1\\xea$\\x86]\\nL\")\n",
      "(2, 0, 7, b'\\xd3/\\xc2nq\\xd4\\x81!\\x89l\\xf5\\re\\xef\\xd7\\xba-I\\x10V')\n",
      "(1, 7, 7, b\"F\\xed\\xa4\\xfc7\\x9a\\x15\\xb2O\\x99\\xac[\\xcd\\x94'\\x9f\\xe0I<\\xd1\")\n",
      "(0, 7, 0, b'\\xba\\xf3EQ\\xfe\\xcbH\\xac\\xc3\\xda\\x86\\x8e\\xb8^\\x1bm\\xac\\x9d\\xe3V')\n"
     ]
    }
   ],
   "source": [
    "# Create a single node tree\n",
    "\n",
    "tree_A = MerkleOctree(min_bounds=[-10,-10,-10], max_bounds=[10,10,10], max_depth=8)\n",
    "\n",
    "tree_A.insert(DataPoint(pos=[1,1,1], data=b'some data')) # Note: data could be any binary-encoded data (occpancy, semantic classification belief)\n",
    "\n",
    "print('=== Tree A: Before changes ===')\n",
    "hashes_A = tree_A.hash_tree\n",
    "\n",
    "for node in hashes_A:\n",
    "    print(node)"
   ]
  },
  {
   "cell_type": "code",
   "execution_count": 3,
   "metadata": {},
   "outputs": [
    {
     "name": "stdout",
     "output_type": "stream",
     "text": [
      "=== Tree B: After 1st change ===\n",
      "(7, 0, 0, b'\\xe4\\x12\\xe0)Wh\\xe5\\x9a\\xfa\\x10^\\xd8\\xf4z\\x87$\\x928\\xfa~')\n",
      "(6, 0, 7, b'e\\x1c(\\xfc\\x83\\xbc\\x90\\x87\\x8e\\xef\\xff\\x82\\xbd/!\\xe5\\x1f\\x14\\x12d')\n",
      "(5, 7, 0, b'\\x9f\\xf4\\xf9\\xe9?&\\xc2\\xbf\\xaf\\xb1\\xd6\\xa2\\xba1\\xc6!\\x1e\\xd0\\xbd\\x8b')\n",
      "(4, 0, 0, b'\\xa5,\\xdb:i\\x05\\xc6\\xdcYy\\xb4>\\t\\xb2\\xd6J}\\x9a33')\n",
      "(3, 0, 0, b'\\xde\\xa3\\xc3\\xf6r8d\\xe1yc\\xd9C\\xa6\\xa4\\x15\\x83\\xb4\\x96+q')\n",
      "(2, 0, 7, b'\\x0f\\x0e\\xa3i{\\xd5\\x1a\\xe6\\xe7\\x81\\x92\\xf3\\xb4\\xa8\\x04b\\x08L\\x92\\x85')\n",
      "(1, 7, 7, b\"k?\\x88h\\x94,*\\x92\\xd2L\\x85'\\xc9\\xa6\\xad\\x98\\xcc\\xd9\\xcb-\")\n",
      "(0, 7, 0, b\"\\x01\\x97\\xdf\\xb0A\\xa9>\\x9d\\x19\\x9f\\x88\\xef\\xd7\\x11@\\xf3'_\\xc6\\x9d\")\n"
     ]
    }
   ],
   "source": [
    "# We modify the existing data point by inserting different data to the same location.\n",
    "\n",
    "# Note that all the hashes change, indicating at each level that a child value has changed.\n",
    "# A fast change detection for the whole tree can be done by comparing only the top hash.\n",
    "\n",
    "tree_B = deepcopy(tree_A)\n",
    "tree_B.insert(DataPoint([1,1,1], b'new data'))\n",
    "\n",
    "print('=== Tree B: After 1st change ===')\n",
    "\n",
    "hashes_B = tree_B.hash_tree\n",
    "\n",
    "for node in hashes_B:\n",
    "    print(node)"
   ]
  },
  {
   "cell_type": "code",
   "execution_count": 4,
   "metadata": {},
   "outputs": [
    {
     "name": "stdout",
     "output_type": "stream",
     "text": [
      "=== Tree C: After 2nd change ===\n",
      "(7, 0, 0, b'w\\xcbUH\\x93GD\\t\\xbc\\xc0\\x8a\\xbc\\xa6\\x8e/\\x87\\x05\\xba\\xc4y')\n",
      "(6, 0, 7, b'e\\x1c(\\xfc\\x83\\xbc\\x90\\x87\\x8e\\xef\\xff\\x82\\xbd/!\\xe5\\x1f\\x14\\x12d')\n",
      "(5, 7, 0, b'\\x9f\\xf4\\xf9\\xe9?&\\xc2\\xbf\\xaf\\xb1\\xd6\\xa2\\xba1\\xc6!\\x1e\\xd0\\xbd\\x8b')\n",
      "(4, 0, 0, b'\\xa5,\\xdb:i\\x05\\xc6\\xdcYy\\xb4>\\t\\xb2\\xd6J}\\x9a33')\n",
      "(3, 0, 0, b'\\xde\\xa3\\xc3\\xf6r8d\\xe1yc\\xd9C\\xa6\\xa4\\x15\\x83\\xb4\\x96+q')\n",
      "(2, 0, 7, b'\\x0f\\x0e\\xa3i{\\xd5\\x1a\\xe6\\xe7\\x81\\x92\\xf3\\xb4\\xa8\\x04b\\x08L\\x92\\x85')\n",
      "(1, 7, 7, b\"k?\\x88h\\x94,*\\x92\\xd2L\\x85'\\xc9\\xa6\\xad\\x98\\xcc\\xd9\\xcb-\")\n",
      "(0, 7, 0, b\"\\x01\\x97\\xdf\\xb0A\\xa9>\\x9d\\x19\\x9f\\x88\\xef\\xd7\\x11@\\xf3'_\\xc6\\x9d\")\n",
      "(6, 0, 2, b'\\x01I\\xe7\\xb0\\xffQ\\x8c\\xac\\xfa\\xc0\\xe6\\x92\\x1bx\\x04\\xa0\\xc8=\\x94\\xcb')\n",
      "(5, 2, 5, b\"\\xb4\\x82\\x99'\\xf0\\xa2\\x89\\xd2pN\\xdb\\xd8\\xe4\\xc2\\x9b\\xb0\\x9b\\x07\\xbe\\xf7\")\n",
      "(4, 5, 5, b'O\\x17\\x98\\xdc\"\\xf66+\\xb4\\xd5\\x9f\\xd3\\xb0XB\\x97y@\\x82\\x98')\n",
      "(3, 5, 5, b\"\\xc8\\xdd\\x17\\xb0/\\xe2\\xe04o\\nb'\\xc5\\xe0\\xb5\\x96\\xbfJD\\xb8\")\n",
      "(2, 5, 2, b'\\x8a\\x81\\xf3\\xf7}\\x87\\xd0\\xbb\\xae\\xaf\\x03\\x08U\\xc4_\\x84\\xec\\xd9Mo')\n",
      "(1, 2, 2, b'\\x8c\\xb3M\\xbe0\\xa5\\xe83c\\x03\\xf2\\xdc\\x89\\x16\\r\\xd1~.|\\x93')\n",
      "(0, 2, 5, b'\\xd69\\xcb\\xa4\\x7f\\x08\\x84dg\\x1a \\x8fJ\\xde\\xa6\\x0c r\\xe3G')\n"
     ]
    }
   ],
   "source": [
    "# We insert a new data point in a different location.\n",
    "\n",
    "# Note that more hashes are shown, indicating the tree expanding to accomodate the new point.\n",
    "# The space-partitioning tree structure is \"right-sized\" for the sparse data, and does not allocate unneeded empty voxels.\n",
    "\n",
    "# Note that the top hash changes indicating a change in the tree.\n",
    "# However hashes in the branch starting with (6, 0, 7, ...) remain the same, indicating no change in that branch, allowing \n",
    "# it to be skipped in a map update.\n",
    "\n",
    "tree_C = deepcopy(tree_B)\n",
    "tree_C.insert(DataPoint([-1,1,-1], b'more data'))\n",
    "\n",
    "print('=== Tree C: After 2nd change ===')\n",
    "\n",
    "hashes_C = tree_C.hash_tree\n",
    "\n",
    "for node in hashes_C:\n",
    "    print(node)"
   ]
  },
  {
   "cell_type": "code",
   "execution_count": 5,
   "metadata": {},
   "outputs": [
    {
     "name": "stdout",
     "output_type": "stream",
     "text": [
      "=== Tree C Hashes as list ===\n",
      "(7, 0, 0, b'w\\xcbUH\\x93GD\\t\\xbc\\xc0\\x8a\\xbc\\xa6\\x8e/\\x87\\x05\\xba\\xc4y')\n",
      "(6, 0, 7, b'e\\x1c(\\xfc\\x83\\xbc\\x90\\x87\\x8e\\xef\\xff\\x82\\xbd/!\\xe5\\x1f\\x14\\x12d')\n",
      "(5, 7, 0, b'\\x9f\\xf4\\xf9\\xe9?&\\xc2\\xbf\\xaf\\xb1\\xd6\\xa2\\xba1\\xc6!\\x1e\\xd0\\xbd\\x8b')\n",
      "(4, 0, 0, b'\\xa5,\\xdb:i\\x05\\xc6\\xdcYy\\xb4>\\t\\xb2\\xd6J}\\x9a33')\n",
      "(3, 0, 0, b'\\xde\\xa3\\xc3\\xf6r8d\\xe1yc\\xd9C\\xa6\\xa4\\x15\\x83\\xb4\\x96+q')\n",
      "(2, 0, 7, b'\\x0f\\x0e\\xa3i{\\xd5\\x1a\\xe6\\xe7\\x81\\x92\\xf3\\xb4\\xa8\\x04b\\x08L\\x92\\x85')\n",
      "(1, 7, 7, b\"k?\\x88h\\x94,*\\x92\\xd2L\\x85'\\xc9\\xa6\\xad\\x98\\xcc\\xd9\\xcb-\")\n",
      "(0, 7, 0, b\"\\x01\\x97\\xdf\\xb0A\\xa9>\\x9d\\x19\\x9f\\x88\\xef\\xd7\\x11@\\xf3'_\\xc6\\x9d\")\n",
      "(6, 0, 2, b'\\x01I\\xe7\\xb0\\xffQ\\x8c\\xac\\xfa\\xc0\\xe6\\x92\\x1bx\\x04\\xa0\\xc8=\\x94\\xcb')\n",
      "(5, 2, 5, b\"\\xb4\\x82\\x99'\\xf0\\xa2\\x89\\xd2pN\\xdb\\xd8\\xe4\\xc2\\x9b\\xb0\\x9b\\x07\\xbe\\xf7\")\n",
      "(4, 5, 5, b'O\\x17\\x98\\xdc\"\\xf66+\\xb4\\xd5\\x9f\\xd3\\xb0XB\\x97y@\\x82\\x98')\n",
      "(3, 5, 5, b\"\\xc8\\xdd\\x17\\xb0/\\xe2\\xe04o\\nb'\\xc5\\xe0\\xb5\\x96\\xbfJD\\xb8\")\n",
      "(2, 5, 2, b'\\x8a\\x81\\xf3\\xf7}\\x87\\xd0\\xbb\\xae\\xaf\\x03\\x08U\\xc4_\\x84\\xec\\xd9Mo')\n",
      "(1, 2, 2, b'\\x8c\\xb3M\\xbe0\\xa5\\xe83c\\x03\\xf2\\xdc\\x89\\x16\\r\\xd1~.|\\x93')\n",
      "(0, 2, 5, b'\\xd69\\xcb\\xa4\\x7f\\x08\\x84dg\\x1a \\x8fJ\\xde\\xa6\\x0c r\\xe3G')\n",
      "=== Tree C Hash-only Reconstruction ===\n",
      "(7, 0, 0, b'w\\xcbUH\\x93GD\\t\\xbc\\xc0\\x8a\\xbc\\xa6\\x8e/\\x87\\x05\\xba\\xc4y')\n",
      "(6, 0, 7, b'e\\x1c(\\xfc\\x83\\xbc\\x90\\x87\\x8e\\xef\\xff\\x82\\xbd/!\\xe5\\x1f\\x14\\x12d')\n",
      "(5, 7, 0, b'\\x9f\\xf4\\xf9\\xe9?&\\xc2\\xbf\\xaf\\xb1\\xd6\\xa2\\xba1\\xc6!\\x1e\\xd0\\xbd\\x8b')\n",
      "(4, 0, 0, b'\\xa5,\\xdb:i\\x05\\xc6\\xdcYy\\xb4>\\t\\xb2\\xd6J}\\x9a33')\n",
      "(3, 0, 0, b'\\xde\\xa3\\xc3\\xf6r8d\\xe1yc\\xd9C\\xa6\\xa4\\x15\\x83\\xb4\\x96+q')\n",
      "(2, 0, 7, b'\\x0f\\x0e\\xa3i{\\xd5\\x1a\\xe6\\xe7\\x81\\x92\\xf3\\xb4\\xa8\\x04b\\x08L\\x92\\x85')\n",
      "(1, 7, 7, b\"k?\\x88h\\x94,*\\x92\\xd2L\\x85'\\xc9\\xa6\\xad\\x98\\xcc\\xd9\\xcb-\")\n",
      "(0, 7, 0, b\"\\x01\\x97\\xdf\\xb0A\\xa9>\\x9d\\x19\\x9f\\x88\\xef\\xd7\\x11@\\xf3'_\\xc6\\x9d\")\n",
      "(6, 0, 2, b'\\x01I\\xe7\\xb0\\xffQ\\x8c\\xac\\xfa\\xc0\\xe6\\x92\\x1bx\\x04\\xa0\\xc8=\\x94\\xcb')\n",
      "(5, 2, 5, b\"\\xb4\\x82\\x99'\\xf0\\xa2\\x89\\xd2pN\\xdb\\xd8\\xe4\\xc2\\x9b\\xb0\\x9b\\x07\\xbe\\xf7\")\n",
      "(4, 5, 5, b'O\\x17\\x98\\xdc\"\\xf66+\\xb4\\xd5\\x9f\\xd3\\xb0XB\\x97y@\\x82\\x98')\n",
      "(3, 5, 5, b\"\\xc8\\xdd\\x17\\xb0/\\xe2\\xe04o\\nb'\\xc5\\xe0\\xb5\\x96\\xbfJD\\xb8\")\n",
      "(2, 5, 2, b'\\x8a\\x81\\xf3\\xf7}\\x87\\xd0\\xbb\\xae\\xaf\\x03\\x08U\\xc4_\\x84\\xec\\xd9Mo')\n",
      "(1, 2, 2, b'\\x8c\\xb3M\\xbe0\\xa5\\xe83c\\x03\\xf2\\xdc\\x89\\x16\\r\\xd1~.|\\x93')\n",
      "(0, 2, 5, b'\\xd69\\xcb\\xa4\\x7f\\x08\\x84dg\\x1a \\x8fJ\\xde\\xa6\\x0c r\\xe3G')\n"
     ]
    }
   ],
   "source": [
    "# We demonstrate how the hash tree might be shared independent of the underlying map data.\n",
    "\n",
    "# Encode the hash tree as a list (can be further packed into binary with compression)\n",
    "hashes_C = list(tree_C.hash_tree)\n",
    "print('=== Tree C Hashes as list ===')\n",
    "for node in hashes_C:\n",
    "    print(node)\n",
    "\n",
    "# Recreate a hash-only Merkle tree from the encoded hash list\n",
    "# Note that the reconstructed hashes are the same as the original.\n",
    "hash_tree_C = HashTree.create_from_encoded(hashes_C)\n",
    "\n",
    "print('=== Tree C Hash-only Reconstruction ===')\n",
    "for node in hash_tree_C:\n",
    "    print(node)"
   ]
  },
  {
   "cell_type": "code",
   "execution_count": 6,
   "metadata": {},
   "outputs": [
    {
     "name": "stdout",
     "output_type": "stream",
     "text": [
      "=== A against A ===\n",
      "[]\n",
      "=== B against A ===\n",
      "[([7, 0, 0, 0, 7, 7, 0], <ChangeStatus.MERGE_BOTH: 3>)]\n",
      "=== C against B ===\n",
      "[([2], <ChangeStatus.ADD_TO_LOCAL: 1>)]\n",
      "=== C against A ===\n",
      "[([2], <ChangeStatus.ADD_TO_LOCAL: 1>), ([7, 0, 0, 0, 7, 7, 0], <ChangeStatus.MERGE_BOTH: 3>)]\n"
     ]
    }
   ],
   "source": [
    "# We demonstrate how quick difference determination can be done.\n",
    "\n",
    "# We also reconstruct hash-only Merkle trees for Trees A and B.\n",
    "hashes_A = list(tree_A.hash_tree)\n",
    "hash_tree_A = HashTree.create_from_encoded(hashes_A)\n",
    "\n",
    "hashes_B = list(tree_B.hash_tree)\n",
    "hash_tree_B = HashTree.create_from_encoded(hashes_B)\n",
    "\n",
    "# Compare A against A. No changes.\n",
    "print('=== A against A ===')\n",
    "print(compare_hash_trees(hash_tree_A, hash_tree_A))\n",
    "\n",
    "# Compare B against A. Need to merge 1 leaf node.\n",
    "print('=== B against A ===')\n",
    "print(compare_hash_trees(hash_tree_A, hash_tree_B))\n",
    "\n",
    "# Compare C against B. Need to add a branch.\n",
    "print('=== C against B ===')\n",
    "print(compare_hash_trees(hash_tree_B, hash_tree_C))\n",
    "\n",
    "# Compare C against A. Need to merge 1 leaf node and add a branch.\n",
    "print('=== C against A ===')\n",
    "print(compare_hash_trees(hash_tree_A, hash_tree_C))\n"
   ]
  }
 ],
 "metadata": {
  "kernelspec": {
   "display_name": "Python 3",
   "language": "python",
   "name": "python3"
  },
  "language_info": {
   "codemirror_mode": {
    "name": "ipython",
    "version": 3
   },
   "file_extension": ".py",
   "mimetype": "text/x-python",
   "name": "python",
   "nbconvert_exporter": "python",
   "pygments_lexer": "ipython3",
   "version": "3.10.6"
  },
  "orig_nbformat": 4,
  "vscode": {
   "interpreter": {
    "hash": "e7370f93d1d0cde622a1f8e1c04877d8463912d04d973331ad4851f04de6915a"
   }
  }
 },
 "nbformat": 4,
 "nbformat_minor": 2
}
